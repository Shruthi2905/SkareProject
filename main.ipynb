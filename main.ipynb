{
 "cells": [
  {
   "cell_type": "code",
   "execution_count": 12,
   "metadata": {},
   "outputs": [
    {
     "name": "stdout",
     "output_type": "stream",
     "text": [
      "Found 2530 images belonging to 5 classes.\n",
      "Found 629 images belonging to 5 classes.\n",
      "Found 127 images belonging to 5 classes.\n"
     ]
    }
   ],
   "source": [
    "from tensorflow.keras.preprocessing.image import ImageDataGenerator\n",
    "from tensorflow.keras.applications.efficientnet import preprocess_input\n",
    "from tensorflow import keras\n",
    "from tensorflow.keras import layers\n",
    "\n",
    "# ========================\n",
    "# Enhanced Data Pipeline\n",
    "# ========================\n",
    "\n",
    "def build_augmentation():\n",
    "    \"\"\"\n",
    "    Define a Sequential model for data augmentation.\n",
    "    This will be used as part of the model during training.\n",
    "    \"\"\"\n",
    "    return keras.Sequential([\n",
    "        layers.RandomFlip(\"horizontal_and_vertical\"),\n",
    "        layers.RandomRotation(0.25),\n",
    "        layers.RandomZoom(0.25),\n",
    "        layers.RandomContrast(0.25),\n",
    "        layers.RandomBrightness(0.2),\n",
    "        layers.GaussianNoise(0.1),\n",
    "        layers.RandomTranslation(height_factor=0.15, width_factor=0.15),\n",
    "    ], name=\"augmentation\")\n",
    "\n",
    "def create_datagen():\n",
    "    \"\"\"\n",
    "    Create an ImageDataGenerator with EfficientNet preprocessing and validation split.\n",
    "    \"\"\"\n",
    "    return ImageDataGenerator(\n",
    "        preprocessing_function=preprocess_input,  # EfficientNet's custom preprocessing\n",
    "        validation_split=0.2  # Using validation split\n",
    "    )\n",
    "\n",
    "# Data generators\n",
    "train_datagen = create_datagen()\n",
    "test_datagen = ImageDataGenerator(preprocessing_function=preprocess_input)\n",
    "\n",
    "# Training data generator\n",
    "train_generator = train_datagen.flow_from_directory(\n",
    "    TRAIN_DIR,\n",
    "    target_size=IMG_SIZE,\n",
    "    batch_size=BATCH_SIZE,\n",
    "    class_mode='categorical',\n",
    "    shuffle=True,\n",
    "    seed=SEED,\n",
    "    subset='training'\n",
    ")\n",
    "\n",
    "# Validation data generator\n",
    "val_generator = train_datagen.flow_from_directory(\n",
    "    TRAIN_DIR,\n",
    "    target_size=IMG_SIZE,\n",
    "    batch_size=BATCH_SIZE,\n",
    "    class_mode='categorical',\n",
    "    shuffle=False,\n",
    "    seed=SEED,\n",
    "    subset='validation'\n",
    ")\n",
    "\n",
    "# Test data generator\n",
    "test_generator = test_datagen.flow_from_directory(\n",
    "    TEST_DIR,\n",
    "    target_size=IMG_SIZE,\n",
    "    batch_size=BATCH_SIZE,\n",
    "    class_mode='categorical',\n",
    "    shuffle=False\n",
    ")"
   ]
  },
  {
   "cell_type": "code",
   "execution_count": null,
   "metadata": {},
   "outputs": [],
   "source": []
  }
 ],
 "metadata": {
  "kernelspec": {
   "display_name": "Python 3",
   "language": "python",
   "name": "python3"
  },
  "language_info": {
   "codemirror_mode": {
    "name": "ipython",
    "version": 3
   },
   "file_extension": ".py",
   "mimetype": "text/x-python",
   "name": "python",
   "nbconvert_exporter": "python",
   "pygments_lexer": "ipython3",
   "version": "3.12.6"
  }
 },
 "nbformat": 4,
 "nbformat_minor": 2
}
