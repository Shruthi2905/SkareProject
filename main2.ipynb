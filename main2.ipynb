{
 "cells": [
  {
   "cell_type": "code",
   "execution_count": 1,
   "metadata": {},
   "outputs": [],
   "source": [
    "import tensorflow as tf\n",
    "from tensorflow import keras\n",
    "from tensorflow.keras import layers\n",
    "from tensorflow.keras.models import Model\n",
    "from tensorflow.keras.applications import EfficientNetB1  # Updated to B1 variant\n",
    "from tensorflow.keras.applications.efficientnet import preprocess_input\n",
    "from tensorflow.keras.callbacks import ModelCheckpoint, EarlyStopping, ReduceLROnPlateau\n",
    "import matplotlib.pyplot as plt\n",
    "import numpy as np\n",
    "import os"
   ]
  },
  {
   "cell_type": "code",
   "execution_count": 2,
   "metadata": {},
   "outputs": [],
   "source": [
    "# ========================\n",
    "# Configuration\n",
    "# ========================\n",
    "SEED = 42\n",
    "IMG_SIZE = (240, 240)  # Increased input size\n",
    "BATCH_SIZE = 32\n",
    "EPOCHS = 50  # Increased epochs with early stopping\n",
    "NUM_CLASSES = 5\n",
    "INIT_LR = 1e-4  # Reduced initial learning rate\n",
    "WEIGHT_DECAY = 1e-4"
   ]
  },
  {
   "cell_type": "code",
   "execution_count": 3,
   "metadata": {},
   "outputs": [],
   "source": [
    "\n",
    "# ========================\n",
    "# Enhanced Data Pipeline\n",
    "# ========================\n",
    "\n",
    "def build_augmentation():\n",
    "    return keras.Sequential([\n",
    "        layers.RandomFlip(\"horizontal_and_vertical\"),\n",
    "        layers.RandomRotation(0.25),\n",
    "        layers.RandomZoom(0.25),\n",
    "        layers.RandomContrast(0.25),\n",
    "        layers.RandomBrightness(0.2),\n",
    "        layers.GaussianNoise(0.1),\n",
    "        layers.RandomTranslation(0.15, 0.15),\n",
    "        layers.RandomShear(0.2),\n",
    "    ], name=\"augmentation\")\n",
    "\n",
    "def create_datagen(augmentation):\n",
    "    return ImageDataGenerator(\n",
    "        preprocessing_function=preprocess_input,  # EfficientNet's custom preprocessing\n",
    "        validation_split=0.2  # Using validation split\n",
    "    )\n"
   ]
  },
  {
   "cell_type": "code",
   "execution_count": 9,
   "metadata": {},
   "outputs": [
    {
     "ename": "AttributeError",
     "evalue": "module 'keras._tf_keras.keras.layers' has no attribute 'RandomShear'",
     "output_type": "error",
     "traceback": [
      "\u001b[1;31m---------------------------------------------------------------------------\u001b[0m",
      "\u001b[1;31mAttributeError\u001b[0m                            Traceback (most recent call last)",
      "Cell \u001b[1;32mIn[9], line 1\u001b[0m\n\u001b[1;32m----> 1\u001b[0m train_datagen \u001b[38;5;241m=\u001b[39m create_datagen(\u001b[43mbuild_augmentation\u001b[49m\u001b[43m(\u001b[49m\u001b[43m)\u001b[49m)\n\u001b[0;32m      2\u001b[0m test_datagen \u001b[38;5;241m=\u001b[39m ImageDataGenerator(preprocessing_function\u001b[38;5;241m=\u001b[39mpreprocess_input)\n\u001b[0;32m      3\u001b[0m train_generator \u001b[38;5;241m=\u001b[39m train_datagen\u001b[38;5;241m.\u001b[39mflow_from_directory(\n\u001b[0;32m      4\u001b[0m     TRAIN_DIR,\n\u001b[0;32m      5\u001b[0m     target_size\u001b[38;5;241m=\u001b[39mIMG_SIZE,\n\u001b[1;32m   (...)\u001b[0m\n\u001b[0;32m     10\u001b[0m     subset\u001b[38;5;241m=\u001b[39m\u001b[38;5;124m'\u001b[39m\u001b[38;5;124mtraining\u001b[39m\u001b[38;5;124m'\u001b[39m\n\u001b[0;32m     11\u001b[0m )\n",
      "Cell \u001b[1;32mIn[3], line 14\u001b[0m, in \u001b[0;36mbuild_augmentation\u001b[1;34m()\u001b[0m\n\u001b[0;32m      5\u001b[0m \u001b[38;5;28;01mdef\u001b[39;00m \u001b[38;5;21mbuild_augmentation\u001b[39m():\n\u001b[0;32m      6\u001b[0m     \u001b[38;5;28;01mreturn\u001b[39;00m keras\u001b[38;5;241m.\u001b[39mSequential([\n\u001b[0;32m      7\u001b[0m         layers\u001b[38;5;241m.\u001b[39mRandomFlip(\u001b[38;5;124m\"\u001b[39m\u001b[38;5;124mhorizontal_and_vertical\u001b[39m\u001b[38;5;124m\"\u001b[39m),\n\u001b[0;32m      8\u001b[0m         layers\u001b[38;5;241m.\u001b[39mRandomRotation(\u001b[38;5;241m0.25\u001b[39m),\n\u001b[0;32m      9\u001b[0m         layers\u001b[38;5;241m.\u001b[39mRandomZoom(\u001b[38;5;241m0.25\u001b[39m),\n\u001b[0;32m     10\u001b[0m         layers\u001b[38;5;241m.\u001b[39mRandomContrast(\u001b[38;5;241m0.25\u001b[39m),\n\u001b[0;32m     11\u001b[0m         layers\u001b[38;5;241m.\u001b[39mRandomBrightness(\u001b[38;5;241m0.2\u001b[39m),\n\u001b[0;32m     12\u001b[0m         layers\u001b[38;5;241m.\u001b[39mGaussianNoise(\u001b[38;5;241m0.1\u001b[39m),\n\u001b[0;32m     13\u001b[0m         layers\u001b[38;5;241m.\u001b[39mRandomTranslation(\u001b[38;5;241m0.15\u001b[39m, \u001b[38;5;241m0.15\u001b[39m),\n\u001b[1;32m---> 14\u001b[0m         \u001b[43mlayers\u001b[49m\u001b[38;5;241;43m.\u001b[39;49m\u001b[43mRandomShear\u001b[49m(\u001b[38;5;241m0.2\u001b[39m),\n\u001b[0;32m     15\u001b[0m     ], name\u001b[38;5;241m=\u001b[39m\u001b[38;5;124m\"\u001b[39m\u001b[38;5;124maugmentation\u001b[39m\u001b[38;5;124m\"\u001b[39m)\n",
      "\u001b[1;31mAttributeError\u001b[0m: module 'keras._tf_keras.keras.layers' has no attribute 'RandomShear'"
     ]
    }
   ],
   "source": [
    "train_datagen = create_datagen(build_augmentation())\n",
    "test_datagen = ImageDataGenerator(preprocessing_function=preprocess_input)\n",
    "train_generator = train_datagen.flow_from_directory(\n",
    "    TRAIN_DIR,\n",
    "    target_size=IMG_SIZE,\n",
    "    batch_size=BATCH_SIZE,\n",
    "    class_mode='categorical',\n",
    "    shuffle=True,\n",
    "    seed=SEED,\n",
    "    subset='training'\n",
    ")\n",
    "val_generator = train_datagen.flow_from_directory(\n",
    "    TRAIN_DIR,\n",
    "    target_size=IMG_SIZE,\n",
    "    batch_size=BATCH_SIZE,\n",
    "    class_mode='categorical',\n",
    "    shuffle=False,\n",
    "    seed=SEED,\n",
    "    subset='validation'\n",
    ")\n",
    "test_generator = test_datagen.flow_from_directory(\n",
    "    TEST_DIR,\n",
    "    target_size=IMG_SIZE,\n",
    "    batch_size=BATCH_SIZE,\n",
    "    class_mode='categorical',\n",
    "    shuffle=False\n",
    ")"
   ]
  },
  {
   "cell_type": "code",
   "execution_count": null,
   "metadata": {},
   "outputs": [],
   "source": [
    "# ========================\n",
    "# Enhanced Model Architecture\n",
    "# ========================\n",
    "\n",
    "def create_model():\n",
    "    # Load base model with pretrained weights\n",
    "    base_model = EfficientNetB1(\n",
    "        include_top=False,\n",
    "        weights='imagenet',\n",
    "        input_shape=IMG_SIZE + (3,),\n",
    "        pooling='avg'\n",
    "    )\n",
    "    \n",
    "    # Freeze initial layers\n",
    "    for layer in base_model.layers[:150]:\n",
    "        layer.trainable = False\n",
    "        \n",
    "    # Custom head with regularization\n",
    "    inputs = keras.Input(shape=IMG_SIZE + (3,))\n",
    "    x = build_augmentation()(inputs)  # Built-in augmentation\n",
    "    x = base_model(x)\n",
    "    x = layers.Dense(512, activation='relu', kernel_regularizer=keras.regularizers.l2(WEIGHT_DECAY))(x)\n",
    "    x = layers.BatchNormalization()(x)\n",
    "    x = layers.Dropout(0.5)(x)\n",
    "    x = layers.Dense(256, activation='relu', kernel_regularizer=keras.regularizers.l2(WEIGHT_DECAY))(x)\n",
    "    x = layers.BatchNormalization()(x)\n",
    "    x = layers.Dropout(0.3)(x)\n",
    "    outputs = layers.Dense(NUM_CLASSES, activation='softmax')(x)\n",
    "    \n",
    "    model = Model(inputs, outputs)\n",
    "    \n",
    "    # Unfreeze more layers after initial training\n",
    "    return model\n",
    "\n",
    "model = create_model()\n"
   ]
  }
 ],
 "metadata": {
  "kernelspec": {
   "display_name": "Python 3",
   "language": "python",
   "name": "python3"
  },
  "language_info": {
   "codemirror_mode": {
    "name": "ipython",
    "version": 3
   },
   "file_extension": ".py",
   "mimetype": "text/x-python",
   "name": "python",
   "nbconvert_exporter": "python",
   "pygments_lexer": "ipython3",
   "version": "3.12.6"
  }
 },
 "nbformat": 4,
 "nbformat_minor": 2
}
